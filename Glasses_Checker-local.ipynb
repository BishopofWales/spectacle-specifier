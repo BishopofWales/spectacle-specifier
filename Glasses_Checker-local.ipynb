{
 "cells": [
  {
   "cell_type": "code",
   "execution_count": 15,
   "metadata": {
    "colab": {},
    "colab_type": "code",
    "id": "sZ6ldbnQLYfQ"
   },
   "outputs": [],
   "source": [
    "import numpy as np\n",
    "import tensorflow as tf\n",
    "from tensorflow import keras\n",
    "\n",
    "from keras import layers\n",
    "from keras import models\n",
    "from keras.preprocessing.image import ImageDataGenerator\n",
    "from keras import optimizers\n",
    "from keras.preprocessing.image import load_img\n",
    "from keras.preprocessing.image import img_to_array"
   ]
  },
  {
   "cell_type": "code",
   "execution_count": null,
   "metadata": {},
   "outputs": [],
   "source": [
    "%tensorflow_version 1.x\n",
    "import tensorflow as tf\n",
    "\n",
    "# Download the code\n",
    "!git clone https://github.com/NVlabs/stylegan2.git\n",
    "%cd stylegan2\n",
    "!nvcc test_nvcc.cu -o test_nvcc -run"
   ]
  },
  {
   "cell_type": "code",
   "execution_count": 2,
   "metadata": {
    "colab": {},
    "colab_type": "code",
    "id": "y5dqZXZWp0jE"
   },
   "outputs": [],
   "source": [
    "#Create the architecture of the model\n",
    "model = models.Sequential()\n",
    "model.add(layers.Conv2D(32, (3, 3), activation='relu',\n",
    "                        input_shape=(150, 150, 3)))\n",
    "model.add(layers.MaxPooling2D((2, 2)))\n",
    "model.add(layers.Conv2D(64, (3, 3), activation='relu'))\n",
    "model.add(layers.MaxPooling2D((2, 2)))\n",
    "model.add(layers.Conv2D(128, (3, 3), activation='relu'))\n",
    "model.add(layers.MaxPooling2D((2, 2)))\n",
    "model.add(layers.Conv2D(128, (3, 3), activation='relu'))\n",
    "model.add(layers.MaxPooling2D((2, 2)))\n",
    "model.add(layers.Flatten())\n",
    "model.add(layers.Dense(512, activation='relu'))\n",
    "model.add(layers.Dense(1, activation='sigmoid'))\n",
    "\n",
    "model.compile(loss='binary_crossentropy',\n",
    "              optimizer=optimizers.RMSprop(lr=1e-4),\n",
    "              metrics=['acc'])\n"
   ]
  },
  {
   "cell_type": "code",
   "execution_count": 5,
   "metadata": {
    "colab": {
     "base_uri": "https://localhost:8080/",
     "height": 54
    },
    "colab_type": "code",
    "executionInfo": {
     "elapsed": 20406,
     "status": "ok",
     "timestamp": 1589729293656,
     "user": {
      "displayName": "Michael Hermenault",
      "photoUrl": "",
      "userId": "18186353445346578381"
     },
     "user_tz": 240
    },
    "id": "-aaoCN8_3hbE",
    "outputId": "8a443af3-296f-440d-a02b-5087c3c1bcf4"
   },
   "outputs": [
    {
     "name": "stdout",
     "output_type": "stream",
     "text": [
      "Found 4000 images belonging to 2 classes.\n",
      "Found 1989 images belonging to 2 classes.\n"
     ]
    }
   ],
   "source": [
    "#Get the sample data\n",
    "train_datagen = ImageDataGenerator(rescale=1./255)\n",
    "test_datagen = ImageDataGenerator(rescale=1./255)\n",
    "\n",
    "train_dir = '/Users/mherm/Google Drive/glasses_work_folder/training'\n",
    "validation_dir = '/Users/mherm/Google Drive/glasses_work_folder/validation'\n",
    "\n",
    "#Turn it into tensors\n",
    "train_generator = train_datagen.flow_from_directory(\n",
    "        # This is the target directory\n",
    "        train_dir,\n",
    "        # All images will be resized to 150x150\n",
    "        target_size=(150, 150),\n",
    "        batch_size=20,\n",
    "        # Since we use binary_crossentropy loss, we need binary labels\n",
    "        class_mode='binary')\n",
    "\n",
    "validation_generator = test_datagen.flow_from_directory(\n",
    "        validation_dir,\n",
    "        target_size=(150, 150),\n",
    "        batch_size=20,\n",
    "        class_mode='binary')\n"
   ]
  },
  {
   "cell_type": "code",
   "execution_count": 6,
   "metadata": {
    "colab": {
     "base_uri": "https://localhost:8080/",
     "height": 54
    },
    "colab_type": "code",
    "id": "uNqUqVORQLfj",
    "outputId": "3a9eb41b-20f6-4c44-ca37-8d74a703dc99"
   },
   "outputs": [
    {
     "name": "stdout",
     "output_type": "stream",
     "text": [
      "Epoch 1/30\n",
      "100/100 [==============================] - 99s 991ms/step - loss: 0.4758 - acc: 0.7705 - val_loss: 0.3589 - val_acc: 0.8900\n",
      "Epoch 2/30\n",
      "100/100 [==============================] - 114s 1s/step - loss: 0.2164 - acc: 0.9245 - val_loss: 0.3037 - val_acc: 0.9272\n",
      "Epoch 3/30\n",
      "100/100 [==============================] - 117s 1s/step - loss: 0.1865 - acc: 0.9485 - val_loss: 0.2264 - val_acc: 0.9560\n",
      "Epoch 4/30\n",
      "100/100 [==============================] - 115s 1s/step - loss: 0.1611 - acc: 0.9520 - val_loss: 0.0590 - val_acc: 0.9525\n",
      "Epoch 5/30\n",
      "100/100 [==============================] - 134s 1s/step - loss: 0.1466 - acc: 0.9615 - val_loss: 0.0281 - val_acc: 0.9540\n",
      "Epoch 6/30\n",
      "100/100 [==============================] - 149s 1s/step - loss: 0.1490 - acc: 0.9560 - val_loss: 1.0065 - val_acc: 0.9596\n",
      "Epoch 7/30\n",
      "100/100 [==============================] - 156s 2s/step - loss: 0.1486 - acc: 0.9575 - val_loss: 0.0945 - val_acc: 0.9600\n",
      "Epoch 8/30\n",
      "100/100 [==============================] - 164s 2s/step - loss: 0.1154 - acc: 0.9675 - val_loss: 0.0495 - val_acc: 0.9687\n",
      "Epoch 9/30\n",
      "100/100 [==============================] - 162s 2s/step - loss: 0.1317 - acc: 0.9615 - val_loss: 0.3071 - val_acc: 0.9630\n",
      "Epoch 10/30\n",
      "100/100 [==============================] - 169s 2s/step - loss: 0.1101 - acc: 0.9665 - val_loss: 0.1392 - val_acc: 0.9606\n",
      "Epoch 11/30\n",
      "100/100 [==============================] - 176s 2s/step - loss: 0.1130 - acc: 0.9670 - val_loss: 0.5880 - val_acc: 0.9600\n",
      "Epoch 12/30\n",
      "100/100 [==============================] - 177s 2s/step - loss: 0.1073 - acc: 0.9650 - val_loss: 0.5709 - val_acc: 0.9707\n",
      "Epoch 13/30\n",
      "100/100 [==============================] - 176s 2s/step - loss: 0.0899 - acc: 0.9715 - val_loss: 0.0072 - val_acc: 0.9640\n",
      "Epoch 14/30\n",
      "100/100 [==============================] - 186s 2s/step - loss: 0.1028 - acc: 0.9650 - val_loss: 0.4575 - val_acc: 0.9687\n",
      "Epoch 15/30\n",
      "100/100 [==============================] - 199s 2s/step - loss: 0.0952 - acc: 0.9705 - val_loss: 0.1490 - val_acc: 0.9690\n",
      "Epoch 16/30\n",
      "100/100 [==============================] - 216s 2s/step - loss: 0.0920 - acc: 0.9695 - val_loss: 0.4144 - val_acc: 0.9646\n",
      "Epoch 17/30\n",
      "100/100 [==============================] - 210s 2s/step - loss: 0.0866 - acc: 0.9755 - val_loss: 0.0256 - val_acc: 0.9700\n",
      "Epoch 18/30\n",
      "100/100 [==============================] - 163s 2s/step - loss: 0.0735 - acc: 0.9775 - val_loss: 0.0569 - val_acc: 0.9292\n",
      "Epoch 19/30\n",
      "100/100 [==============================] - 147s 1s/step - loss: 0.0702 - acc: 0.9740 - val_loss: 0.0612 - val_acc: 0.9690\n",
      "Epoch 20/30\n",
      "100/100 [==============================] - 147s 1s/step - loss: 0.0755 - acc: 0.9755 - val_loss: 0.0017 - val_acc: 0.9666\n",
      "Epoch 21/30\n",
      "100/100 [==============================] - 153s 2s/step - loss: 0.0577 - acc: 0.9845 - val_loss: 0.0102 - val_acc: 0.9680\n",
      "Epoch 22/30\n",
      "100/100 [==============================] - 157s 2s/step - loss: 0.0740 - acc: 0.9760 - val_loss: 0.3264 - val_acc: 0.9606\n",
      "Epoch 23/30\n",
      "100/100 [==============================] - 161s 2s/step - loss: 0.0476 - acc: 0.9840 - val_loss: 0.0046 - val_acc: 0.9730\n",
      "Epoch 24/30\n",
      "100/100 [==============================] - 164s 2s/step - loss: 0.0761 - acc: 0.9725 - val_loss: 0.0090 - val_acc: 0.9656\n",
      "Epoch 25/30\n",
      "100/100 [==============================] - 168s 2s/step - loss: 0.0555 - acc: 0.9835 - val_loss: 6.5615e-04 - val_acc: 0.9620\n",
      "Epoch 26/30\n",
      "100/100 [==============================] - 155s 2s/step - loss: 0.0548 - acc: 0.9795 - val_loss: 8.3354e-04 - val_acc: 0.9697\n",
      "Epoch 27/30\n",
      "100/100 [==============================] - 158s 2s/step - loss: 0.0483 - acc: 0.9790 - val_loss: 0.0249 - val_acc: 0.9630\n",
      "Epoch 28/30\n",
      "100/100 [==============================] - 155s 2s/step - loss: 0.0505 - acc: 0.9850 - val_loss: 0.0172 - val_acc: 0.9666\n",
      "Epoch 29/30\n",
      "100/100 [==============================] - 136s 1s/step - loss: 0.0406 - acc: 0.9860 - val_loss: 0.3231 - val_acc: 0.9560\n",
      "Epoch 30/30\n",
      "100/100 [==============================] - 145s 1s/step - loss: 0.0429 - acc: 0.9845 - val_loss: 0.0806 - val_acc: 0.9666\n"
     ]
    }
   ],
   "source": [
    "#Train the network\n",
    "history = model.fit_generator(\n",
    "      train_generator,\n",
    "      steps_per_epoch=100,\n",
    "      epochs=30,\n",
    "      validation_data=validation_generator,\n",
    "      validation_steps=50)\n"
   ]
  },
  {
   "cell_type": "code",
   "execution_count": 7,
   "metadata": {},
   "outputs": [],
   "source": [
    "#Save the model afterwards\n",
    "model.save(\"glasses-5-17-2019.h5\")"
   ]
  },
  {
   "cell_type": "code",
   "execution_count": 32,
   "metadata": {},
   "outputs": [
    {
     "data": {
      "text/plain": [
       "array([[0.]], dtype=float32)"
      ]
     },
     "execution_count": 32,
     "metadata": {},
     "output_type": "execute_result"
    }
   ],
   "source": [
    "#Evaulate the model on some images\n",
    "img = load_img('/Users/mherm/Google Drive/glasses_work_folder/examples/example8.jfif', target_size=(150,150))\n",
    "img.show()\n",
    "input_arr = np.array([img_to_array(img)])\n",
    "model.predict(input_arr)"
   ]
  }
 ],
 "metadata": {
  "accelerator": "GPU",
  "colab": {
   "authorship_tag": "ABX9TyNKwYl9ev+jo7CmhYVPJ8Lh",
   "name": "Glasses_Checker.ipynb",
   "provenance": []
  },
  "kernelspec": {
   "display_name": "Python 3",
   "language": "python",
   "name": "python3"
  },
  "language_info": {
   "codemirror_mode": {
    "name": "ipython",
    "version": 3
   },
   "file_extension": ".py",
   "mimetype": "text/x-python",
   "name": "python",
   "nbconvert_exporter": "python",
   "pygments_lexer": "ipython3",
   "version": "3.7.6"
  }
 },
 "nbformat": 4,
 "nbformat_minor": 1
}
